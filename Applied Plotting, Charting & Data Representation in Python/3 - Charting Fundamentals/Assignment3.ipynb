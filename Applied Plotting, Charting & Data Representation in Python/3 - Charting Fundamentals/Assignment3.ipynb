{
 "cells": [
  {
   "cell_type": "markdown",
   "metadata": {},
   "source": [
    "# Assignment 3 - Building a Custom Visualization\n",
    "\n",
    "---\n",
    "\n",
    "In this assignment you must choose one of the options presented below and submit a visual as well as your source code for peer grading. The details of how you solve the assignment are up to you, although your assignment must use matplotlib so that your peers can evaluate your work. The options differ in challenge level, but there are no grades associated with the challenge level you chose. However, your peers will be asked to ensure you at least met a minimum quality for a given technique in order to pass. Implement the technique fully (or exceed it!) and you should be able to earn full grades for the assignment.\n",
    "\n",
    "\n",
    "&nbsp;&nbsp;&nbsp;&nbsp;&nbsp;&nbsp;Ferreira, N., Fisher, D., & Konig, A. C. (2014, April). [Sample-oriented task-driven visualizations: allowing users to make better, more confident decisions.](https://www.microsoft.com/en-us/research/wp-content/uploads/2016/02/Ferreira_Fisher_Sample_Oriented_Tasks.pdf) \n",
    "&nbsp;&nbsp;&nbsp;&nbsp;&nbsp;&nbsp;In Proceedings of the SIGCHI Conference on Human Factors in Computing Systems (pp. 571-580). ACM. ([video](https://www.youtube.com/watch?v=BI7GAs-va-Q))\n",
    "\n",
    "\n",
    "In this [paper](https://www.microsoft.com/en-us/research/wp-content/uploads/2016/02/Ferreira_Fisher_Sample_Oriented_Tasks.pdf) the authors describe the challenges users face when trying to make judgements about probabilistic data generated through samples. As an example, they look at a bar chart of four years of data (replicated below in Figure 1). Each year has a y-axis value, which is derived from a sample of a larger dataset. For instance, the first value might be the number votes in a given district or riding for 1992, with the average being around 33,000. On top of this is plotted the 95% confidence interval for the mean (see the boxplot lectures for more information, and the yerr parameter of barcharts).\n",
    "\n",
    "<br>\n",
    "<img src=\"readonly/Assignment3Fig1.png\" alt=\"Figure 1\" style=\"width: 400px;\"/>\n",
    "<h4 style=\"text-align: center;\" markdown=\"1\">  &nbsp;&nbsp;&nbsp;&nbsp;&nbsp;&nbsp;&nbsp;&nbsp;Figure 1 from (Ferreira et al, 2014).</h4>\n",
    "\n",
    "<br>\n",
    "\n",
    "A challenge that users face is that, for a given y-axis value (e.g. 42,000), it is difficult to know which x-axis values are most likely to be representative, because the confidence levels overlap and their distributions are different (the lengths of the confidence interval bars are unequal). One of the solutions the authors propose for this problem (Figure 2c) is to allow users to indicate the y-axis value of interest (e.g. 42,000) and then draw a horizontal line and color bars based on this value. So bars might be colored red if they are definitely above this value (given the confidence interval), blue if they are definitely below this value, or white if they contain this value.\n",
    "\n",
    "\n",
    "<br>\n",
    "<img src=\"readonly/Assignment3Fig2c.png\" alt=\"Figure 1\" style=\"width: 400px;\"/>\n",
    "<h4 style=\"text-align: center;\" markdown=\"1\">  Figure 2c from (Ferreira et al. 2014). Note that the colorbar legend at the bottom as well as the arrows are not required in the assignment descriptions below.</h4>\n",
    "\n",
    "<br>\n",
    "<br>\n",
    "\n",
    "**Easiest option:** Implement the bar coloring as described above - a color scale with only three colors, (e.g. blue, white, and red). Assume the user provides the y axis value of interest as a parameter or variable.\n",
    "\n",
    "\n",
    "**Harder option:** Implement the bar coloring as described in the paper, where the color of the bar is actually based on the amount of data covered (e.g. a gradient ranging from dark blue for the distribution being certainly below this y-axis, to white if the value is certainly contained, to dark red if the value is certainly not contained as the distribution is above the axis).\n",
    "\n",
    "**Even Harder option:** Add interactivity to the above, which allows the user to click on the y axis to set the value of interest. The bar colors should change with respect to what value the user has selected.\n",
    "\n",
    "**Hardest option:** Allow the user to interactively set a range of y values they are interested in, and recolor based on this (e.g. a y-axis band, see the paper for more details).\n",
    "\n",
    "---\n",
    "\n",
    "*Note: The data given for this assignment is not the same as the data used in the article and as a result the visualizations may look a little different.*"
   ]
  },
  {
   "cell_type": "code",
   "execution_count": null,
   "metadata": {
    "collapsed": false
   },
   "outputs": [],
   "source": [
    "# Use the following data for this assignment:\n",
    "\n",
    "import pandas as pd\n",
    "import numpy as np\n",
    "\n",
    "np.random.seed(12345)\n",
    "\n",
    "df = pd.DataFrame([np.random.normal(32000,200000,3650), \n",
    "                   np.random.normal(43000,100000,3650), \n",
    "                   np.random.normal(43500,140000,3650), \n",
    "                   np.random.normal(48000,70000,3650)], \n",
    "                  index=[1992,1993,1994,1995])"
   ]
  },
  {
   "cell_type": "code",
   "execution_count": null,
   "metadata": {
    "collapsed": false
   },
   "outputs": [],
   "source": [
    "from matplotlib import pyplot as plt\n",
    "%matplotlib notebook"
   ]
  },
  {
   "cell_type": "code",
   "execution_count": null,
   "metadata": {
    "collapsed": false
   },
   "outputs": [],
   "source": [
    "values = df.mean(axis=1)\n",
    "yerr = 1.96*(df.std(axis=1)/np.sqrt(df.count(axis=1)))"
   ]
  },
  {
   "cell_type": "code",
   "execution_count": null,
   "metadata": {
    "collapsed": false
   },
   "outputs": [],
   "source": [
    "# Definition of the color used in almost all texts/lines and the x-axis labels\n",
    "official_color = 'dimgrey'\n",
    "x_ind = df.index\n",
    "\n",
    "# Define size and remove chart borders\n",
    "plt.figure(figsize=(8,4))\n",
    "plt.axes(frameon=False)\n",
    "\n",
    "# Plot the bars and customize the xticks labels\n",
    "barlist = plt.bar(x_ind, values, edgecolor=official_color, linewidth=0.1, color='springgreen',\n",
    "                  yerr=yerr, error_kw=dict(ecolor=official_color, lw=2, capsize=3, capthick=2, alpha=0.55))\n",
    "plt.xticks(x_ind, df.index.astype(str))\n",
    "\n",
    "# Remove ticks from y-axis and change the text colors\n",
    "plt.tick_params(\n",
    "                axis='y',\n",
    "                which='both',\n",
    "                bottom='off',\n",
    "                top='off',\n",
    "                left='off',\n",
    "                labelbottom='off'\n",
    ")\n",
    "plt.tick_params(colors=official_color)\n",
    "plt.show()\n",
    "\n",
    "# Function to find the interval of each bar\n",
    "def which_interval(value, parameter):\n",
    "    '''value, parameter: value to compare\n",
    "    Returns: -1, certainly smaller than parameter, 1, certainly bigger than paramenter, otherwise, 0'''\n",
    "    \n",
    "    # Safe comparison for float\n",
    "    if str(value) == str(parameter):\n",
    "        return 0\n",
    "    if value > parameter:\n",
    "        return 1\n",
    "    return -1\n",
    "    \n",
    "\n",
    "# Colors used to bars\n",
    "colors = ['white', 'tomato', 'cornflowerblue']"
   ]
  },
  {
   "cell_type": "code",
   "execution_count": null,
   "metadata": {
    "collapsed": false
   },
   "outputs": [],
   "source": [
    "# Function to insert and manage the line inputed by the user\n",
    "def update_colors(parameter, dic={'line': None, 'annotation': None}):\n",
    "    # Remove the old line and annotation\n",
    "    if dic['line']:\n",
    "        dic['line'].remove()\n",
    "    if dic['annotation']:\n",
    "        dic['annotation'].remove()\n",
    "    \n",
    "    # Create the new line and annotation with the value inputed\n",
    "    dic['line'] = plt.axhline(y=parameter, color=official_color, linestyle='-', label=parameter, linewidth=0.8)\n",
    "    dic['annotation'] = plt.annotate('%0.2f' % parameter, xy=(1, parameter-800), xytext=(8, 0), \n",
    "                 xycoords=('axes fraction', 'data'), textcoords='offset points', color=official_color)\n",
    "    \n",
    "    # Change the color of each bar based in his interval\n",
    "    for i, value in enumerate(values):\n",
    "        barlist[i].set_facecolor(colors[which_interval(value, parameter)])"
   ]
  },
  {
   "cell_type": "code",
   "execution_count": null,
   "metadata": {
    "collapsed": false
   },
   "outputs": [],
   "source": [
    "#Assume the user provides the y axis value of interest as a parameter or variable.\n",
    "y_axis_inputed = 39493.3049414 \n",
    "update_colors(y_axis_inputed)"
   ]
  },
  {
   "cell_type": "code",
   "execution_count": null,
   "metadata": {
    "collapsed": true
   },
   "outputs": [],
   "source": [
    "import matplotlib.pyplot as plt\n",
    "import numpy as np\n",
    "import pandas as pd\n",
    "import scipy as sp\n",
    "import scipy.stats\n",
    "\n",
    "# Use the following data for this assignment:\n",
    "np.random.seed(12345)\n",
    "\n",
    "df = pd.DataFrame([np.random.normal(32000, 200000, 3650),\n",
    "                   np.random.normal(43000, 100000, 3650),\n",
    "                   np.random.normal(43500, 140000, 3650),\n",
    "                   np.random.normal(48000, 70000, 3650)],\n",
    "                  index=[1992, 1993, 1994, 1995])\n",
    "\n",
    "# Value used for confidence interval comparison\n",
    "ref_y = 30000\n",
    "\n",
    "\n",
    "# https://stackoverflow.com/questions/15033511/compute-a-confidence-interval-from-sample-data\n",
    "def mean_confidence_interval(data, confidence=0.95):\n",
    "    a = 1.0 * np.array(data)\n",
    "    n = len(a)\n",
    "    m, se = np.mean(a), scipy.stats.sem(a)\n",
    "    h = se * sp.stats.t._ppf((1 + confidence) / 2., n - 1)\n",
    "    return m, m - h, m + h\n",
    "\n",
    "\n",
    "bar_locations = [1992, 1993, 1994, 1995]\n",
    "data = []\n",
    "colors = []\n",
    "\n",
    "# Determine colors\n",
    "for i in range(len(bar_locations)):\n",
    "    mean, low, high = mean_confidence_interval(df.T[bar_locations[i]])\n",
    "    data.append(mean)\n",
    "    if low > ref_y:\n",
    "        color = 'r'\n",
    "    elif high < ref_y:\n",
    "        color = 'b'\n",
    "    elif mean > ref_y:\n",
    "        diff = 1 - (mean - ref_y) / (high - low)\n",
    "        color = (1.0, diff, diff)\n",
    "    else:\n",
    "        diff = 1 - (ref_y - mean) / (high - low)\n",
    "        color = (diff, diff, 1.0)\n",
    "\n",
    "    colors.append(color)\n",
    "\n",
    "# Create bar plot\n",
    "plt.bar(bar_locations, data, color=colors, edgecolor=\"lightgrey\")\n",
    "\n",
    "# Set bar labels\n",
    "plt.xticks(bar_locations, bar_locations, alpha=0.7)\n",
    "plt.yticks(alpha=0.7)\n",
    "\n",
    "# Title\n",
    "plt.title(\"95%\" + \" confidence interval compared to value %1.0f\" % ref_y)\n",
    "\n",
    "# Add y grid for easier reference\n",
    "ax = plt.gca()\n",
    "ax.yaxis.grid(True, alpha=0.5)\n",
    "ax.axhline(y=ref_y)\n",
    "\n",
    "# Remove the frame of the chart\n",
    "for spine in plt.gca().spines.values():\n",
    "    spine.set_visible(False)\n",
    "\n",
    "# Remove all the ticks on X axis\n",
    "plt.tick_params(top='off', bottom='off')\n",
    "\n",
    "plt.show()"
   ]
  }
 ],
 "metadata": {
  "kernelspec": {
   "display_name": "Python 3",
   "language": "python",
   "name": "python3"
  },
  "language_info": {
   "codemirror_mode": {
    "name": "ipython",
    "version": 3
   },
   "file_extension": ".py",
   "mimetype": "text/x-python",
   "name": "python",
   "nbconvert_exporter": "python",
   "pygments_lexer": "ipython3",
   "version": "3.5.2"
  }
 },
 "nbformat": 4,
 "nbformat_minor": 2
}
